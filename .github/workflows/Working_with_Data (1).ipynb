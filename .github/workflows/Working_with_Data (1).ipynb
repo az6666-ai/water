{
  "nbformat": 4,
  "nbformat_minor": 0,
  "metadata": {
    "colab": {
      "name": "Working with Data",
      "provenance": [],
      "collapsed_sections": []
    },
    "kernelspec": {
      "name": "python3",
      "display_name": "Python 3"
    }
  },
  "cells": [
    {
      "cell_type": "markdown",
      "metadata": {
        "id": "QJg6Sh1q1QEf"
      },
      "source": [
        "Welcome guys, today we are going to put the skills we have touched upon so far to the test. Our data file is "
      ]
    },
    {
      "cell_type": "code",
      "metadata": {
        "id": "-RGHT0fc2Ycx"
      },
      "source": [
        "# Download the libraries  \r\n",
        "\r\n",
        "\r\n",
        "\r\n"
      ],
      "execution_count": null,
      "outputs": []
    },
    {
      "cell_type": "markdown",
      "metadata": {
        "id": "k__Gw67Q2ee7"
      },
      "source": [
        ""
      ]
    }
  ]
}